{
 "cells": [
  {
   "cell_type": "code",
   "execution_count": null,
   "id": "7793fece-615d-4d58-a7b9-b42b9b321561",
   "metadata": {
    "tags": []
   },
   "outputs": [],
   "source": [
    "import os, sys, pandas\n",
    "import os.path as osp\n",
    "import torch \n",
    "from datetime import datetime\n",
    "from diffusers import StableDiffusionPipeline\n",
    "from tqdm import tqdm"
   ]
  },
  {
   "cell_type": "code",
   "execution_count": null,
   "id": "5220d174-6cd6-4507-9c5d-a48583e9d4a3",
   "metadata": {
    "tags": []
   },
   "outputs": [],
   "source": [
    "category_name_map = {'Gary Marcus et al.': 'GaryMarcus'}\n",
    "diff_models = {\n",
    "    '14': 'CompVis/stable-diffusion-v1-4', \n",
    "    '15': 'runwayml/stable-diffusion-v1-5', \n",
    "    '21': 'stabilityai/stable-diffusion-2-1'\n",
    "}\n",
    "device = 'cuda:7'"
   ]
  },
  {
   "cell_type": "code",
   "execution_count": null,
   "id": "ebf8ca96-3933-435f-a23b-afc8bd3c4deb",
   "metadata": {
    "tags": []
   },
   "outputs": [],
   "source": [
    "benchmark = pandas.read_csv('imagen.csv')\n",
    "num_prompts = len(benchmark)\n",
    "print(f\"The current benchmark includes {num_prompts} prompts. \")"
   ]
  },
  {
   "cell_type": "code",
   "execution_count": null,
   "id": "3fe70707-4904-405c-9e45-501351a260c6",
   "metadata": {
    "tags": []
   },
   "outputs": [],
   "source": [
    "now = datetime.now().strftime(\"%H%M%S\")\n",
    "print(f'Start to generate images at: {now}')\n",
    "model_ids = ['14', '15', '21']\n",
    "num_models = len(model_ids)\n",
    "README_names, README_contents = dict(), dict()\n",
    "for idx in model_ids:\n",
    "    # Use custom pipeline to accept prompts with long length\n",
    "    model_name = diff_models[idx]\n",
    "    model_name_no_slash = model_name.replace('/', '-')\n",
    "    pipe = StableDiffusionPipeline.from_pretrained(model_name, torch_dtype=torch.float16, custom_pipeline=\"lpw_stable_diffusion\")\n",
    "    pipe = pipe.to(device)\n",
    "    for i in range(num_prompts):\n",
    "        prompt = benchmark['Prompt'][i]\n",
    "        category = benchmark['Category'][i]\n",
    "        root_dir = osp.join(category, str(i + 1))\n",
    "        os.makedirs(root_dir, exist_ok=True)\n",
    "        if category in category_name_map:\n",
    "            category = category_name_map[category]\n",
    "        seed = 0\n",
    "        torch.manual_seed(seed)\n",
    "        image = pipe(prompt).images[0]\n",
    "        image.save(f'{root_dir}/{model_name_no_slash}_seed_{seed}.jpg')\n",
    "now = datetime.now().strftime(\"%H%M%S\")\n",
    "print(f'Finish to generate images at: {now}')"
   ]
  },
  {
   "cell_type": "code",
   "execution_count": null,
   "id": "3bc15c26-0dbf-44ad-a7e9-0c2424807372",
   "metadata": {
    "tags": []
   },
   "outputs": [],
   "source": [
    "for i in range(num_prompts):\n",
    "    prompt = benchmark['Prompt'][i]\n",
    "    category = benchmark['Category'][i]\n",
    "    root_dir = osp.join(category, str(i + 1))\n",
    "    with open(osp.join(root_dir, 'prompt.txt'), 'w') as fout:\n",
    "        fout.write(prompt)"
   ]
  },
  {
   "cell_type": "code",
   "execution_count": null,
   "id": "16d9ca2c-cbc6-49d8-80fa-8e547b8157a7",
   "metadata": {
    "tags": []
   },
   "outputs": [],
   "source": [
    "fs = os.listdir()\n",
    "fs = [x for x in fs if osp.isdir(x) and x != '.ipynb_checkpoints']"
   ]
  },
  {
   "cell_type": "code",
   "execution_count": null,
   "id": "26ca4480-f93f-4d48-bb8b-0189e7d87f72",
   "metadata": {
    "tags": []
   },
   "outputs": [],
   "source": [
    "for f in fs:\n",
    "    README_name = osp.join(f, 'README.md')\n",
    "    content = [\n",
    "        '# Results',\n",
    "        f'Category \"{f}\" in the benchmark: '\n",
    "        '\\n',\n",
    "        '<table class=\"center\">'\n",
    "    ]\n",
    "    examples = os.listdir(f)\n",
    "    examples = [x for x in examples if osp.isdir(osp.join(f, x)) and x != '.ipynb_checkpoints']\n",
    "    examples.sort(key=int)\n",
    "    for e in examples:\n",
    "        dirname = osp.join(f, e)\n",
    "        prompt = open(osp.join(dirname, 'prompt.txt')).readlines()[0].strip()\n",
    "        images = [x for x in os.listdir(dirname) if '.jpg' in x]\n",
    "        images.sort()\n",
    "        num_images = len(images)\n",
    "        ratio = int(100 / num_images)\n",
    "        content.append(f'\\t<tr><td style=\"text-align:center;\", colspan=\"{num_images}\"><b>{e}:{prompt}</b></td></tr>')\n",
    "        content.append('\\t<tr>')\n",
    "        model_names = []\n",
    "        for i, name in enumerate(images):\n",
    "            img_rel_path = osp.join(e, name)\n",
    "            content.append(f'\\t\\t<td><img src=\"{img_rel_path}\"></td>')\n",
    "        content.append('\\t</tr><tr>')\n",
    "        for i, name in enumerate(images):\n",
    "            model_name = name.split('_seed')[0]\n",
    "            content.append(f'\\t\\t<td width={ratio}% style=\"text-align:center;\">{model_name}</td>')\n",
    "        content.append('\\t</tr>')\n",
    "    content.append('</table>')\n",
    "    with open(README_name, 'w') as fout:\n",
    "        fout.write('\\n'.join(content))\n",
    "        \n",
    "    "
   ]
  }
 ],
 "metadata": {
  "kernelspec": {
   "display_name": "Python 3 (ipykernel)",
   "language": "python",
   "name": "python3"
  },
  "language_info": {
   "codemirror_mode": {
    "name": "ipython",
    "version": 3
   },
   "file_extension": ".py",
   "mimetype": "text/x-python",
   "name": "python",
   "nbconvert_exporter": "python",
   "pygments_lexer": "ipython3",
   "version": "3.9.16"
  }
 },
 "nbformat": 4,
 "nbformat_minor": 5
}
